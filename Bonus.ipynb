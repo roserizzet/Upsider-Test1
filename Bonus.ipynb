{
  "nbformat": 4,
  "nbformat_minor": 0,
  "metadata": {
    "colab": {
      "provenance": []
    },
    "kernelspec": {
      "name": "python3",
      "display_name": "Python 3"
    },
    "language_info": {
      "name": "python"
    }
  },
  "cells": [
    {
      "cell_type": "code",
      "execution_count": null,
      "metadata": {
        "id": "kUQFdYV81qoD",
        "colab": {
          "base_uri": "https://localhost:8080/"
        },
        "outputId": "3fec4010-807f-4669-af12-e14992fac8fa"
      },
      "outputs": [
        {
          "output_type": "stream",
          "name": "stdout",
          "text": [
            "Participant's Guess: 20.3\n"
          ]
        }
      ],
      "source": [
        "def participant_guess(assumed_middle, deviation):\n",
        "    return 0.5 * (assumed_middle - deviation)\n",
        "\n",
        "# Assumed middle and deviation chosen by the participant\n",
        "assumed_middle = 53\n",
        "deviation = 12.4\n",
        "\n",
        "# Calculate the participant's guess using the formula\n",
        "participant_guess_result = participant_guess(assumed_middle, deviation)\n",
        "\n",
        "# Print the result\n",
        "print(\"Participant's Guess:\", participant_guess_result)\n",
        "\n"
      ]
    },
    {
      "cell_type": "markdown",
      "source": [],
      "metadata": {
        "id": "vNR6N9zCgyux"
      }
    }
  ]
}